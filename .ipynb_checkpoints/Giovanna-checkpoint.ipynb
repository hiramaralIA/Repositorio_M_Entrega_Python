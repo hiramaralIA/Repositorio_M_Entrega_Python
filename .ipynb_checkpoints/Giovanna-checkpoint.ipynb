{
 "cells": [
  {
   "cell_type": "markdown",
   "id": "6387d159",
   "metadata": {},
   "source": [
    "# Meu primeiro programa em Python para Lógica de Programação"
   ]
  },
  {
   "cell_type": "code",
   "execution_count": 2,
   "id": "b92eaaa4",
   "metadata": {},
   "outputs": [
    {
     "name": "stdout",
     "output_type": "stream",
     "text": [
      "Olá aluno Cetam! Iniciamos com Python \n"
     ]
    }
   ],
   "source": [
    "print(\"Giovanna Cavalcante. Iniciando com Python \")"
   ]
  },
  {
   "cell_type": "code",
   "execution_count": 3,
   "id": "d7e1d297",
   "metadata": {},
   "outputs": [
    {
     "data": {
      "text/plain": [
       "25"
      ]
     },
     "execution_count": 3,
     "metadata": {},
     "output_type": "execute_result"
    }
   ],
   "source": [
    "10+15"
   ]
  },
  {
   "cell_type": "code",
   "execution_count": null,
   "id": "00a29dfb",
   "metadata": {},
   "outputs": [],
   "source": [
    "print(\"Olá mundo!\")\n"
   ]
  },
  {
   "cell_type": "code",
   "execution_count": 4,
   "id": "4f38eccf",
   "metadata": {},
   "outputs": [
    {
     "name": "stdout",
     "output_type": "stream",
     "text": [
      "2\n"
     ]
    }
   ],
   "source": [
    "print(2)"
   ]
  },
  {
   "cell_type": "code",
   "execution_count": 5,
   "id": "d89bf0da",
   "metadata": {},
   "outputs": [
    {
     "name": "stdout",
     "output_type": "stream",
     "text": [
      "Olá mundo 2!\n"
     ]
    }
   ],
   "source": [
    "print('Olá mundo 2!')"
   ]
  },
  {
   "cell_type": "markdown",
   "id": "b9979bc4",
   "metadata": {},
   "source": [
    "# ERRO COMUM"
   ]
  },
  {
   "cell_type": "code",
   "execution_count": 6,
   "id": "b98ea61f",
   "metadata": {},
   "outputs": [
    {
     "ename": "SyntaxError",
     "evalue": "invalid syntax (Temp/ipykernel_8652/1057246432.py, line 1)",
     "output_type": "error",
     "traceback": [
      "\u001b[1;36m  File \u001b[1;32m\"C:\\Users\\ALUNO0~1.IBC\\AppData\\Local\\Temp/ipykernel_8652/1057246432.py\"\u001b[1;36m, line \u001b[1;32m1\u001b[0m\n\u001b[1;33m    print(Olá mundo!)\u001b[0m\n\u001b[1;37m              ^\u001b[0m\n\u001b[1;31mSyntaxError\u001b[0m\u001b[1;31m:\u001b[0m invalid syntax\n"
     ]
    }
   ],
   "source": [
    "print(Olá mundo!)"
   ]
  },
  {
   "cell_type": "markdown",
   "id": "0f98551d",
   "metadata": {},
   "source": [
    "# Operações matemáticas em Python"
   ]
  },
  {
   "cell_type": "code",
   "execution_count": 7,
   "id": "a0046a78",
   "metadata": {},
   "outputs": [
    {
     "name": "stdout",
     "output_type": "stream",
     "text": [
      "6\n"
     ]
    }
   ],
   "source": [
    "print(1+5)"
   ]
  },
  {
   "cell_type": "code",
   "execution_count": 8,
   "id": "3ad081af",
   "metadata": {},
   "outputs": [
    {
     "name": "stdout",
     "output_type": "stream",
     "text": [
      "10\n"
     ]
    }
   ],
   "source": [
    "print(1+3*3)"
   ]
  },
  {
   "cell_type": "markdown",
   "id": "fcfa5e5f",
   "metadata": {},
   "source": [
    "# Strings em Python"
   ]
  },
  {
   "cell_type": "code",
   "execution_count": 9,
   "id": "112a27d4",
   "metadata": {},
   "outputs": [
    {
     "name": "stdout",
     "output_type": "stream",
     "text": [
      "Eu estudo Inteligência Artificial no CETAM\n"
     ]
    }
   ],
   "source": [
    "print(\"Eu estudo Inteligência Artificial no CETAM\")"
   ]
  },
  {
   "cell_type": "markdown",
   "id": "d2ab40df",
   "metadata": {},
   "source": [
    "# Concatenar"
   ]
  },
  {
   "cell_type": "code",
   "execution_count": 10,
   "id": "22f93cba",
   "metadata": {},
   "outputs": [
    {
     "name": "stdout",
     "output_type": "stream",
     "text": [
      "Estou estudando Python\n"
     ]
    }
   ],
   "source": [
    "print('Estou estudando ' +  'Python' )"
   ]
  },
  {
   "cell_type": "code",
   "execution_count": 11,
   "id": "5b58231d",
   "metadata": {},
   "outputs": [
    {
     "name": "stdout",
     "output_type": "stream",
     "text": [
      "False\n"
     ]
    }
   ],
   "source": [
    "print('Estou estudando ' in 'Python' )"
   ]
  },
  {
   "cell_type": "code",
   "execution_count": 13,
   "id": "666ae742",
   "metadata": {},
   "outputs": [
    {
     "name": "stdout",
     "output_type": "stream",
     "text": [
      "True\n"
     ]
    }
   ],
   "source": [
    "print('Py' in 'Python' )"
   ]
  },
  {
   "cell_type": "code",
   "execution_count": 15,
   "id": "4855f93d",
   "metadata": {},
   "outputs": [
    {
     "name": "stdout",
     "output_type": "stream",
     "text": [
      "Giovanna Cavalcante\n"
     ]
    }
   ],
   "source": [
    "print ('Giovanna ' +  'Cavalcante')"
   ]
  },
  {
   "cell_type": "code",
   "execution_count": 18,
   "id": "4103ed20",
   "metadata": {},
   "outputs": [
    {
     "name": "stdout",
     "output_type": "stream",
     "text": [
      "True\n"
     ]
    }
   ],
   "source": [
    "print ('Gi' in 'Giovanna')"
   ]
  },
  {
   "cell_type": "code",
   "execution_count": 19,
   "id": "92e3b9e3",
   "metadata": {},
   "outputs": [
    {
     "name": "stdout",
     "output_type": "stream",
     "text": [
      "False\n"
     ]
    }
   ],
   "source": [
    "print ('Melissa' in 'Giovanna')"
   ]
  },
  {
   "cell_type": "code",
   "execution_count": 20,
   "id": "c57ee39d",
   "metadata": {},
   "outputs": [
    {
     "name": "stdout",
     "output_type": "stream",
     "text": [
      "Melissa Nogueira\n"
     ]
    }
   ],
   "source": [
    "print ('Melissa ' + 'Nogueira')"
   ]
  },
  {
   "cell_type": "code",
   "execution_count": 21,
   "id": "2ff5a685",
   "metadata": {},
   "outputs": [
    {
     "name": "stdout",
     "output_type": "stream",
     "text": [
      "True\n"
     ]
    }
   ],
   "source": [
    "print ('Me' in 'Melissa')"
   ]
  },
  {
   "cell_type": "markdown",
   "id": "05a9689b",
   "metadata": {},
   "source": [
    "# Reiniciando o kernel"
   ]
  },
  {
   "cell_type": "code",
   "execution_count": 1,
   "id": "4923e7d3",
   "metadata": {},
   "outputs": [
    {
     "name": "stdout",
     "output_type": "stream",
     "text": [
      "texto\n"
     ]
    }
   ],
   "source": [
    "print (\"texto\")"
   ]
  },
  {
   "cell_type": "code",
   "execution_count": null,
   "id": "9a363def",
   "metadata": {},
   "outputs": [],
   "source": []
  }
 ],
 "metadata": {
  "kernelspec": {
   "display_name": "Python 3 (ipykernel)",
   "language": "python",
   "name": "python3"
  },
  "language_info": {
   "codemirror_mode": {
    "name": "ipython",
    "version": 3
   },
   "file_extension": ".py",
   "mimetype": "text/x-python",
   "name": "python",
   "nbconvert_exporter": "python",
   "pygments_lexer": "ipython3",
   "version": "3.9.7"
  }
 },
 "nbformat": 4,
 "nbformat_minor": 5
}
