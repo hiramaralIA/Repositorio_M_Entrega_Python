{
 "cells": [
  {
   "cell_type": "code",
   "execution_count": 1,
   "metadata": 
    "executionInfo": {
     "elapsed": 12,
     "status": "ok",
     "timestamp": 1652530892941,
     "user": {
      "displayName": "Marcelo Bilby",
      "userId": "04728978708819498032"
     },
     "user_tz": 240
    },
    "id": "6pKsAzKMTs3R"
   },
   "outputs": [],
   "source": [
    "import getpass\n",
    "import time"
   ]
  },
  {
   "cell_type": "code",
   "execution_count": 2,
   "metadata": {
    "executionInfo": {
     "elapsed": 10,
     "status": "ok",
     "timestamp": 1652530892943,
     "user": {
      "displayName": "Marcelo Bilby",
      "userId": "04728978708819498032"
     },
     "user_tz": 240
    },
    "id": "nCX94IJwT4Fd"
   },
   "outputs": [],
   "source": [
    "class Usuario:\n",
    "\n",
    "  def __init__(self, name, password):\n",
    "      \n",
    "      self.name = name\n",
    "      self.password = password\n",
    "\n",
    "  def login(self):\n",
    "      if self.name in credenciais:\n",
    "        if self.name == credenciais[self.name][0] and self.password == credenciais[self.name][1]:\n",
    "          return True\n",
    "        else:\n",
    "          return False\n",
    "      else:\n",
    "        return False\n",
    "\n",
    "def retornaTela():\n",
    "  print(\":::'###::::'##:::::::'##:::::##::######:::::##:::::##::########:'##\")\n",
    "  print(\"::'## ##::: ##::::::: ##:::: ##:'##... ##:: ##:::: ##: ##.....:: ##:::::::\")\n",
    "  print(\":'##:. ##:: ##::::::: ##:::: ##: ##:::..::: ##:::: ##: ##::::::: ##:::::::\")\n",
    "  print(\"'##:::. ##: ##::::::: ##:::: ##: ##::'####: ##:::: ##: ######::: ##:::::::\")\n",
    "  print(\":#########: ##::::::: ##:::: ##: ##::: ##:: ##:::: ##: ##...:::: ##:::::::\")\n",
    "  print(\":##.... ##: ##::::::: ##:::: ##: ##::: ##:: ##:::: ##: ##::::::: ##:::::::\")\n",
    "  print(\":##:::: ##: ########:. #######::. ######:::. #######:: ########: ########:\")\n",
    "  print(\"..:::::..::........:::.......::::......:::::.......:::........::........::\")\n",
    "  print(\"          '##::::'##:'########:'####::'######::'##::::'##:'##::::::::::'###::::'########::\")\n",
    "  print(\"           ##:::: ##: ##.....::. ##::'##... ##: ##:::: ##: ##:::::::::'## ##::: ##.... ##:\")\n",
    "  print(\"           ##:::: ##: ##:::::::: ##:: ##:::..:: ##:::: ##: ##::::::::'##:. ##:: ##:::: ##:\")\n",
    "  print(\"           ##:::: ##: ######:::: ##:: ##::::::: ##:::: ##: ##:::::::'##:::. ##: ########::\")\n",
    "  print(\"          . ##:: ##:: ##...::::: ##:: ##::::::: ##:::: ##: ##::::::: #########: ##.. ##:::\")\n",
    "  print(\"          :. ## ##::: ##:::::::: ##:: ##::: ##: ##:::: ##: ##::::::: ##.... ##: ##::. ##::\")\n",
    "  print(\"          ::. ###:::: ########:'####:. ######::. #######:: ########: ##:::: ##: ##:::. ##:\")\n",
    "  print(\"          :::...:::::........::....:::......::::.......:::........::..:::::..::..:::::..::\")\n",
    "\n",
    "    "
   ]
  },
  {
   "cell_type": "code",
   "execution_count": 3,
   "metadata": {
    "colab": {
     "base_uri": "https://localhost:8080/"
    },
    "executionInfo": {

     "elapsed": 59777,
     "status": "ok",
     "timestamp": 1652530963282,
     "user": {
      "displayName": "Marcelo Bilby",
      "userId": "04728978708819498032"
     },
     "user_tz": 240
    },
    "id": "3LgI4_w4wvF0",
    "outputId": "3d2e1320-ebde-43cc-cea3-7f6464c8630b"
   },
   "outputs": [
    {
     "name": "stdout",
     "output_type": "stream",
     "text": [
      ":::'###::::'##:::::::'##:::::##::######:::::##:::::##::########:'##\n",
      "::'## ##::: ##::::::: ##:::: ##:'##... ##:: ##:::: ##: ##.....:: ##:::::::\n",
      ":'##:. ##:: ##::::::: ##:::: ##: ##:::..::: ##:::: ##: ##::::::: ##:::::::\n",
      "'##:::. ##: ##::::::: ##:::: ##: ##::'####: ##:::: ##: ######::: ##:::::::\n",
      ":#########: ##::::::: ##:::: ##: ##::: ##:: ##:::: ##: ##...:::: ##:::::::\n",
      ":##.... ##: ##::::::: ##:::: ##: ##::: ##:: ##:::: ##: ##::::::: ##:::::::\n",
      ":##:::: ##: ########:. #######::. ######:::. #######:: ########: ########:\n",
      "..:::::..::........:::.......::::......:::::.......:::........::........::\n",
      "          '##::::'##:'########:'####::'######::'##::::'##:'##::::::::::'###::::'########::\n",
      "           ##:::: ##: ##.....::. ##::'##... ##: ##:::: ##: ##:::::::::'## ##::: ##.... ##:\n",
      "           ##:::: ##: ##:::::::: ##:: ##:::..:: ##:::: ##: ##::::::::'##:. ##:: ##:::: ##:\n",
      "           ##:::: ##: ######:::: ##:: ##::::::: ##:::: ##: ##:::::::'##:::. ##: ########::\n",
      "          . ##:: ##:: ##...::::: ##:: ##::::::: ##:::: ##: ##::::::: #########: ##.. ##:::\n",
      "          :. ## ##::: ##:::::::: ##:: ##::: ##: ##:::: ##: ##::::::: ##.... ##: ##::. ##::\n",
      "          ::. ###:::: ########:'####:. ######::. #######:: ########: ##:::: ##: ##:::. ##:\n",
      "          :::...:::::........::....:::......::::.......:::........::..:::::..::..:::::..::\n",
      "Usuário:eduardo\n",
      "Senha:··········\n",
      "Usuário:joao\n",
      "Senha:··········\n",

      "Carros disponiveis: \n",
      "==========================================================================================================\n",
      "Carro 1:| celta | Ano: 2016 | Modelo: spirit | Cor: vermelho | Status: disponivel | Valor: R$ 80.00\n",
      "Carro 2:| gol | Ano: 2020 | Modelo: trend | Cor: branco | Status: disponivel | Valor: R$ 60.00\n",
      "Carro 3:| jeep | Ano: 2015 | Modelo: renegade | Cor: verde comando | Status: disponivel | Valor: R$ 120.00\n",
      "==========================================================================================================\n",
      "Informe o nome do cliente: Eduardo\n",
      "Informe o telefone do cliente: 92995195683\n",
      "Informe o número do carro que pretende alugar: 3\n",
      "Quantos dias pretende ficar com o veiculo? 5\n",
      "\n",
      "==========================================================================================================\n",
      "Resp: Joao | Data: Sat May 14 12:22:52 2022\n",
      "Locador: Eduardo\n",
      "Telefone: 92995195683\n",
      "Carro: JEEP\n",
      "Dias: 5 dias\n",
      "Diaria: 120.00\n",
      "Valor a pagar: 600.00\n",
      "\n",
      "\u001b[32m ---------  Carro Alugado com sucesso ------------- \u001b[0;0m\n",
      "==========================================================================================================\n",
      "\n",

      "Carros disponiveis: \n",
      "==========================================================================================================\n",
      "Carro 1: | celta | Ano: 2016 | Modelo: spirit | Cor: vermelho | Status: disponivel | Valor: R$ 80.00\n",
      "Carro 2: | gol | Ano: 2020 | Modelo: trend | Cor: branco | Status: disponivel | Valor: R$ 60.00\n",
      "==========================================================================================================\n"
     ]
    }
   ],
   "source": [

    "retornaTela()\n",
    "credenciais = {\"marcelo\": [\"marcelo\", \"123456\"], \"joao\": [\"joao\", \"12345\"]}\n",


    "status = False\n",
    "posicao = 0\n",
    "\n",
    "while status == False:\n",
    "  user = input(\"Usuário:\")\n",
    "  password = getpass.getpass(\"Senha:\")\n",
    "  usuario = Usuario(user, password)\n",
    "  status = usuario.login()\n",
    "  \n",
    "\n",
    "print(\"Carros disponiveis: \")\n",
    "print(\"==========================================================================================================\")\n",
    "for carro in carros:\n",
    "  posicao += 1\n",
    "  if carros[carro][4] == \"disponivel\":\n",
    "    print(f\"Carro {posicao}:| {carros[carro][0]} | Ano: {carros[carro][1]} | Modelo: {carros[carro][2]} | Cor: {carros[carro][3]} | Status: {carros[carro][4]} | Valor: R$ {carros[carro][5]:.2f}\")  \n",
    "print(\"==========================================================================================================\")\n",
    "\n",
    "\n",
    "cliente = input(\"Informe o nome do cliente: \")\n",
    "fone = int(input(\"Informe o telefone do cliente: \"))\n",
    "aluguel = int(input(\"Informe o número do carro que pretende alugar: \"))\n",
    "dias = int(input(\"Quantos dias pretende ficar com o veiculo? \"))\n",
    "\n",
    "\n",
    "if aluguel == 1:\n",
    "  carros[\"celta\"][4] = \"indisponivel\"\n",
    "  carro = carros['celta'][0].upper()\n",
    "  diaria = carros[\"celta\"][5]\n",
    "  custo = diaria * dias\n",
    "  locador[cliente] = [cliente, fone, carro, dias, diaria, custo] \n",
    "  \n",
    "else:\n",
    "  if aluguel == 2:\n",
    "    carros[\"gol\"][4] = \"indisponivel\"\n",
    "    carro = carros['gol'][0].upper()\n",
    "    diaria = carros[\"gol\"][5]\n",
    "    custo = diaria * dias\n",
    "    locador[cliente] = [cliente, fone, carro, dias, diaria, custo] \n",
    "  \n",
    "  else:\n",
    "    carros[\"jeep\"][4] = \"indisponivel\"\n",
    "    carro = carros['jeep'][0].upper()\n",
    "    diaria = carros[\"jeep\"][5]\n",
    "    custo = diaria * dias\n",
    "    locador[cliente] = [cliente, fone, carro, dias, diaria, custo] \n",
    "\n",
    "\n",
    "print(\"\")\n",
    "print(\"==========================================================================================================\")  \n",
    "print(f\"Resp: {usuario.name.capitalize()} | Data: {time.ctime()}\" )\n",

    "print(f\"Locador: {locador[cliente][0]}\")\n",
    "print(f\"Telefone: {locador[cliente][1]}\")\n",
    "print(f\"Carro: {locador[cliente][2]}\")\n",
    "print(f\"Dias: {locador[cliente][3]} dias\")\n",
    "print(f\"Diaria: {locador[cliente][4]:.2f}\")\n",
    "print(f\"Valor a pagar: {locador[cliente][5]:.2f}\")\n",
    "print(\"\")\n",
    "posicao = 0\n",
    "print(\"\\033[32m ---------  Carro Alugado com sucesso ------------- \\033[0;0m\")\n",
    "print(\"==========================================================================================================\")\n",
    "\n",
    "print(\"\")\n",
    "print(\"\")\n",
    "print(\"Carros disponiveis: \")\n",
    "print(\"==========================================================================================================\")\n",
    "for carro in carros:\n",
    "  posicao += 1\n",
    "  if carros[carro][4] == \"disponivel\":\n",
    "    print(f\"Carro {posicao}: | {carros[carro][0]} | Ano: {carros[carro][1]} | Modelo: {carros[carro][2]} | Cor: {carros[carro][3]} | Status: {carros[carro][4]} | Valor: R$ {carros[carro][5]:.2f}\")\n",
    "print(\"==========================================================================================================\")     "
   ]
  },
  {
   "cell_type": "code",
   "execution_count": 5,
   "metadata": {
    "colab": {
     "base_uri": "https://localhost:8080/"
    },
    "executionInfo": {
     "elapsed": 306,
     "status": "ok",
     "timestamp": 1652531294442,
     "user": {
      "displayName": "Marcelo Bilby",
      "userId": "04728978708819498032"
     },
     "user_tz": 240
    },
    "id": "pkxHuT-Pzr5B",
    "outputId": "e377758f-f09b-4937-8164-f643d33e48fa"
   },
   "outputs": [
    {
     "name": "stdout",
     "output_type": "stream",
     "text": [
      "False\n"
     ]
    }
   ],
   "source": [
    "usuario = Usuario(\"eduardo\", \"12345\")\n",
    "status = usuario.login()\n",
    "print(status)"
   ]

  }
 ],
 "metadata": {
  "colab": {
   "authorship_tag": "ABX9TyNiXuG1M68Mhu9fwjQ7eWrc",

   "collapsed_sections": [],
   "name": "Aluguel de veiculo.ipynb",
   "provenance": []
  },
  "kernelspec": {
   "display_name": "Python 3 (ipykernel)",
   "language": "python",
   "name": "python3"
  },
  "language_info": {
   "codemirror_mode": {
    "name": "ipython",
    "version": 3
   },
   "file_extension": ".py",
   "mimetype": "text/x-python",
   "name": "python",
   "nbconvert_exporter": "python",
   "pygments_lexer": "ipython3",
   "version": "3.9.7"
  }
 },
 "nbformat": 4,
 "nbformat_minor": 1
}
