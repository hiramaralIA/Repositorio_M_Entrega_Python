{
 "cells": [
  {
   "cell_type": "code",
   "execution_count": 1,
   "metadata": {
    "colab": {
     "base_uri": "https://localhost:8080/"
    },
    "executionInfo": {
     "elapsed": 25556,
     "status": "ok",
     "timestamp": 1651844319690,
     "user": {
      "displayName": "Marcelo Bilby",
      "userId": "04728978708819498032"
     },
     "user_tz": 240
    },
    "id": "3LgI4_w4wvF0",
    "outputId": "6787e9a2-1702-44b9-f2d0-719597487aa1"
   },
   "outputs": [
    {
     "name": "stdout",
     "output_type": "stream",
     "text": [
      "Carros disponiveis: \n",
      "==========================================================================================================\n",
      "Carro 1:| celta | Ano: 2016 | Modelo: spirit | Cor: vermelho | Status: disponivel | Valor: R$ 80.00\n",
      "Carro 2:| gol | Ano: 2020 | Modelo: trend | Cor: branco | Status: disponivel | Valor: R$ 60.00\n",
      "Carro 3:| jeep | Ano: 2015 | Modelo: renegade | Cor: verde comando | Status: disponivel | Valor: R$ 120.00\n",
      "==========================================================================================================\n",
      "Informe o nome do cliente: hiram\n",
      "Informe o telefone do cliente: 2346666\n",
      "Informe o número do carro que pretende alugar: 34\n",
      "Quantos dias pretende ficar com o veiculo? 5\n",
      "Locador: hiram\n",
      "Telefone: 2346666\n",
      "Carro: JEEP\n",
      "Dias: 5 dias\n",
      "Diaria: 120.00\n",
      "Valor a pagar: 600.00\n",
      "\n",
      "Carros disponiveis: \n",
      "==========================================================================================================\n",
      "Carro 1: | celta | Ano: 2016 | Modelo: spirit | Cor: vermelho | Status: disponivel | Valor: R$ 80.00\n",
      "Carro 2: | gol | Ano: 2020 | Modelo: trend | Cor: branco | Status: disponivel | Valor: R$ 60.00\n",
      "==========================================================================================================\n"
     ]
    }
   ],
   "source": [
    "carros = {\"celta\":['celta', 2016, 'spirit', 'vermelho', 'disponivel', 80],\n",
    "          \"gol\":[\"gol\", 2020, 'trend', 'branco', 'disponivel', 60],\n",
    "          \"jeep\":[\"jeep\", 2015,\"renegade\", \"verde comando\", \"disponivel\", 120]}\n",
    "\n",
    "locador = {}\n",
    "\n",
    "posicao = 0\n",
    "print(\"Carros disponiveis: \")\n",
    "print(\"==========================================================================================================\")\n",
    "for carro in carros:\n",
    "  posicao += 1\n",
    "  if carros[carro][4] == \"disponivel\":\n",
    "    print(f\"Carro {posicao}:| {carros[carro][0]} | Ano: {carros[carro][1]} | Modelo: {carros[carro][2]} | Cor: {carros[carro][3]} | Status: {carros[carro][4]} | Valor: R$ {carros[carro][5]:.2f}\")  \n",
    "print(\"==========================================================================================================\")\n",
    "cliente = input(\"Informe o nome do cliente: \")\n",
    "fone = int(input(\"Informe o telefone do cliente: \"))\n",
    "aluguel = int(input(\"Informe o número do carro que pretende alugar: \"))\n",
    "dias = int(input(\"Quantos dias pretende ficar com o veiculo? \"))\n",
    "\n",
    "\n",
    "if aluguel == 1:\n",
    "  carros[\"celta\"][4] = \"indisponivel\"\n",
    "  carro = carros['celta'][0].upper()\n",
    "  diaria = carros[\"celta\"][5]\n",
    "  custo = diaria * dias\n",
    "  locador[cliente] = [cliente, fone, carro, dias, diaria, custo] \n",
    "  \n",
    "else:\n",
    "  if aluguel == 2:\n",
    "    carros[\"gol\"][4] = \"indisponivel\"\n",
    "    carro = carros['gol'][0].upper()\n",
    "    diaria = carros[\"gol\"][5]\n",
    "    custo = diaria * dias\n",
    "    locador[cliente] = [cliente, fone, carro, dias, diaria, custo] \n",
    "  \n",
    "  else:\n",
    "    carros[\"jeep\"][4] = \"indisponivel\"\n",
    "    carro = carros['jeep'][0].upper()\n",
    "    diaria = carros[\"jeep\"][5]\n",
    "    custo = diaria * dias\n",
    "    locador[cliente] = [cliente, fone, carro, dias, diaria, custo] \n",
    "  \n",
    "\n",
    "print(f\"Locador: {locador[cliente][0]}\")\n",
    "print(f\"Telefone: {locador[cliente][1]}\")\n",
    "print(f\"Carro: {locador[cliente][2]}\")\n",
    "print(f\"Dias: {locador[cliente][3]} dias\")\n",
    "print(f\"Diaria: {locador[cliente][4]:.2f}\")\n",
    "print(f\"Valor a pagar: {locador[cliente][5]:.2f}\")\n",
    "\n",
    "posicao = 0\n",
    "\n",
    "print(\"\")\n",
    "print(\"Carros disponiveis: \")\n",
    "print(\"==========================================================================================================\")\n",
    "for carro in carros:\n",
    "  posicao += 1\n",
    "  if carros[carro][4] == \"disponivel\":\n",
    "    print(f\"Carro {posicao}: | {carros[carro][0]} | Ano: {carros[carro][1]} | Modelo: {carros[carro][2]} | Cor: {carros[carro][3]} | Status: {carros[carro][4]} | Valor: R$ {carros[carro][5]:.2f}\")\n",
    "print(\"==========================================================================================================\")     "
   ]
  },
  {
   "cell_type": "code",
   "execution_count": null,
   "metadata": {},
   "outputs": [],
   "source": []
  }
 ],
 "metadata": {
  "colab": {
   "authorship_tag": "ABX9TyOG5W5yOtVkWbtCpQwCI1qR",
   "collapsed_sections": [],
   "name": "Aluguel de veiculo.ipynb",
   "provenance": []
  },
  "kernelspec": {
   "display_name": "Python 3 (ipykernel)",
   "language": "python",
   "name": "python3"
  },
  "language_info": {
   "codemirror_mode": {
    "name": "ipython",
    "version": 3
   },
   "file_extension": ".py",
   "mimetype": "text/x-python",
   "name": "python",
   "nbconvert_exporter": "python",
   "pygments_lexer": "ipython3",
   "version": "3.9.7"
  }
 },
 "nbformat": 4,
 "nbformat_minor": 1
}
