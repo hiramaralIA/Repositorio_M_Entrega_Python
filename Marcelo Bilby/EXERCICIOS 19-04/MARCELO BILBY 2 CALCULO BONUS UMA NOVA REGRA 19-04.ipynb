{
 "cells": [
  {
   "cell_type": "markdown",
   "id": "4638144c",
   "metadata": {},
   "source": [
    "**Exercícios com if**\n",
    "\n",
    "**2. Cálculo de bônus com uma nova regra**\n",
    "\n",
    "Agora, crie um novo código que calcule e dê um print no bônus dos funcionários novamente. Porém há uma nova regra nesse 2º caso:\n",
    "- A meta é 1000 vendas\n",
    "Agora, os funcionários que venderem muito acima da meta ganham mais bônus do que os outros. Então o bônus é definido da seguinte forma:\n",
    "\n",
    "- Se vendas funcionário for maior ou igual a 2000, então o bônus é de 15% sobre o valor de vendas\n",
    "- Se vendas funcionário for menor do que 2000 e maior ou igual a 1000, então o bônus é de 10% sobre o valor de vendas\n",
    "- Se vendas funcionário for menos do que 1000 então o bônus do funcionário é de 0.\n",
    "- Use as mesmas variáveis de vendas_funcionários"
   ]
  },
  {
   "cell_type": "code",
   "execution_count": 9,
   "id": "27949e22",
   "metadata": {},
   "outputs": [],
   "source": [
    "vendas_funcionario1 = 1000\n",
    "vendas_funcionario2 = 770\n",
    "vendas_funcionario3 = 2700\n",
    "meta = 1000"
   ]
  },
  {
   "cell_type": "code",
   "execution_count": 10,
   "id": "3be27c0a",
   "metadata": {},
   "outputs": [
    {
     "name": "stdout",
     "output_type": "stream",
     "text": [
      "O Bonus do Funcionário 1 é de: 100.0 reais\n",
      "O Bonus do Funcionário 2 é de: 0 reais\n",
      "O Bonus do Funcionário 3 é de: 405.0 reais\n"
     ]
    }
   ],
   "source": [
    "if vendas_funcionario1 >= meta:\n",
    "    if vendas_funcionario1 >= 2 * meta:\n",
    "        bonus = vendas_funcionario1 * 0.15\n",
    "    else:\n",
    "        bonus = vendas_funcionario1 * 0.1\n",
    "else:\n",
    "    bonus = 0\n",
    "\n",
    "print(\"O Bonus do Funcionário 1 é de: {} reais\".format(bonus))\n",
    "\n",
    "if vendas_funcionario2 >= meta:\n",
    "    if vendas_funcionario2 >= 2 * meta:\n",
    "        bonus = vendas_funcionario2 * 0.15\n",
    "    else:\n",
    "        bonus = vendas_funcionario2 * 0.1\n",
    "else:\n",
    "    bonus = 0\n",
    "\n",
    "print(\"O Bonus do Funcionário 2 é de: {} reais\".format(bonus))\n",
    "\n",
    "if vendas_funcionario3 >= meta:\n",
    "    if vendas_funcionario3 >= 2 * meta:\n",
    "        bonus = vendas_funcionario3 * 0.15\n",
    "    else:\n",
    "        bonus = vendas_funcionario3 * 0.1\n",
    "else:\n",
    "    bonus = 0\n",
    "\n",
    "print(\"O Bonus do Funcionário 3 é de: {} reais\".format(bonus))"
   ]
  },
  {
   "cell_type": "code",
   "execution_count": null,
   "id": "25dcd21a",
   "metadata": {},
   "outputs": [],
   "source": []
  }
 ],
 "metadata": {
  "kernelspec": {
   "display_name": "Python 3 (ipykernel)",
   "language": "python",
   "name": "python3"
  },
  "language_info": {
   "codemirror_mode": {
    "name": "ipython",
    "version": 3
   },
   "file_extension": ".py",
   "mimetype": "text/x-python",
   "name": "python",
   "nbconvert_exporter": "python",
   "pygments_lexer": "ipython3",
   "version": "3.9.7"
  }
 },
 "nbformat": 4,
 "nbformat_minor": 5
}
