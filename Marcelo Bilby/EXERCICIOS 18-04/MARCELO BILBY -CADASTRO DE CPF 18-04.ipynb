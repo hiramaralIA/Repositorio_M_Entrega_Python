{
 "cells": [
  {
   "cell_type": "markdown",
   "id": "bc0cf6bc",
   "metadata": {},
   "source": [
    "**EXERCÍCIO CADASTRO DE CPF**\n",
    "\n",
    "Crie um programa para cadastro de CPF de clientes que recebe o CPF em um input box apenas com números.\n",
    "Ex: 'Insira seu CPF (digite apenas números)'\n",
    "Caso o usuário digite algo diferente de números ou digite menos de 11 caracteres (tamanho do CPF brasileiro), o programa deve exibir uma mensagem de \"Digite seu CPF corretamente e digite apenas números\""
   ]
  },
  {
   "cell_type": "code",
   "execution_count": 40,
   "id": "bc96eeed",
   "metadata": {},
   "outputs": [
    {
     "name": "stdout",
     "output_type": "stream",
     "text": [
      "Informe o número do seu CPF: 10002804204\n"
     ]
    }
   ],
   "source": [
    "cpf = input(\"Informe o número do seu CPF: \")"
   ]
  },
  {
   "cell_type": "code",
   "execution_count": 43,
   "id": "484ff9ca",
   "metadata": {},
   "outputs": [
    {
     "name": "stdout",
     "output_type": "stream",
     "text": [
      "Menor que 2 - Digito: 1 e CPF: 1000280421\n"
     ]
    }
   ],
   "source": [
    "decrescente = 10\n",
    "validacao = 0\n",
    "if len(cpf) == 11 and cpf.isnumeric() :\n",
    "    for numero in cpf[:9]:\n",
    "        validacao += decrescente * int(numero)\n",
    "        decrescente -= 1\n",
    "    if (validacao % 11) < 2 :\n",
    "        digito = validacao % 11\n",
    "        newCPF = cpf[:9]\n",
    "        newCPF += str(digito)\n",
    "        print(f\"Menor que 2 - Digito: {digito} e CPF: {newCPF}\")\n",
    "    elif (validacao % 11) >= 2:\n",
    "        digito = (validacao % 11)\n",
    "        verificador = 11 - (validacao % 11)\n",
    "        newCPF = cpf[:9]\n",
    "        newCPF += str(verificador)\n",
    "        print(f\"Maior igual a 2 - Digito: {digito} e Verificador: {verificador}\")\n",
    "        \n",
    "        \n",
    "else:\n",
    "    print(\"errado\")"
   ]
  },
  {
   "cell_type": "code",
   "execution_count": null,
   "id": "d5817a92",
   "metadata": {},
   "outputs": [],
   "source": []
  },
  {
   "cell_type": "code",
   "execution_count": null,
   "id": "72f71509",
   "metadata": {},
   "outputs": [],
   "source": []
  }
 ],
 "metadata": {
  "kernelspec": {
   "display_name": "Python 3 (ipykernel)",
   "language": "python",
   "name": "python3"
  },
  "language_info": {
   "codemirror_mode": {
    "name": "ipython",
    "version": 3
   },
   "file_extension": ".py",
   "mimetype": "text/x-python",
   "name": "python",
   "nbconvert_exporter": "python",
   "pygments_lexer": "ipython3",
   "version": "3.9.7"
  }
 },
 "nbformat": 4,
 "nbformat_minor": 5
}
