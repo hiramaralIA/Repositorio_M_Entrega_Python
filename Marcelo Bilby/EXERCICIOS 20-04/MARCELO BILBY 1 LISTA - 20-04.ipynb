{
 "cells": [
  {
   "cell_type": "markdown",
   "id": "0b98e7d0",
   "metadata": {},
   "source": [
    "#**Listas em Python**\n",
    "\n",
    "#**Estrutura:**\n",
    "\n",
    "lista = [valor, valor, valor, valor, ...]\n",
    "\n",
    "Lista é um dos objetos mais importantes de Python, por isso vamos trabalhar bastante neles\n",
    "Quando importamos uma base de dados para o Python, normalmente ele é lido como uma \"lista\" ou como alguma \"variação de lista\"\n",
    "Listas em Python foram feitas para serem homogêneas, apesar de aceitarem valores heterogêneos\n",
    "Exemplos de Lista:\n",
    "\n",
    "prod = ['tv', 'celular', 'mouse', 'teclado', 'tablet'] Listas de Produtos de uma Loja:"
   ]
  },
  {
   "cell_type": "code",
   "execution_count": 3,
   "id": "b9e265f1",
   "metadata": {},
   "outputs": [
    {
     "name": "stdout",
     "output_type": "stream",
     "text": [
      "['tv', 'celular', 'teclado', 'andre', 'mario']\n"
     ]
    }
   ],
   "source": [
    "produtos = ['tv','celular','teclado','andre','mario']\n",
    "print(produtos)"
   ]
  },
  {
   "cell_type": "code",
   "execution_count": 18,
   "id": "26f181c8",
   "metadata": {},
   "outputs": [
    {
     "name": "stdout",
     "output_type": "stream",
     "text": [
      "['1000', '2000', '3000', '4000', '5000']\n"
     ]
    }
   ],
   "source": [
    "estoque = ['1000','2000','3000','4000','5000']\n",
    "print(estoque)"
   ]
  },
  {
   "cell_type": "code",
   "execution_count": 5,
   "id": "439f0d3a",
   "metadata": {},
   "outputs": [
    {
     "name": "stdout",
     "output_type": "stream",
     "text": [
      "A quantidade de celular vendida foi 2000 unidades\n"
     ]
    }
   ],
   "source": [
    "print(\"A quantidade de {} vendida foi {} unidades\".format(produtos[1], estoque[1]))"
   ]
  },
  {
   "cell_type": "code",
   "execution_count": 8,
   "id": "8a0d63f1",
   "metadata": {},
   "outputs": [
    {
     "name": "stdout",
     "output_type": "stream",
     "text": [
      "O valor do indice i é: 2\n",
      "O produto na posição i é: teclado\n"
     ]
    }
   ],
   "source": [
    "i = produtos.index(\"teclado\")\n",
    "print(\"O valor do indice i é: \"+ str(i))\n",
    "print(\"O produto na posição i é: \" + str(produtos[i]))"
   ]
  },
  {
   "cell_type": "code",
   "execution_count": 7,
   "id": "eb5e2bf2",
   "metadata": {},
   "outputs": [
    {
     "name": "stdout",
     "output_type": "stream",
     "text": [
      "A quantidade de celular vendida foi 2000 unidades\n",
      "A quantidade de teclado vendida foi 3000 unidades\n",
      "A quantidade de andre vendida foi 4000 unidades\n",
      "A quantidade de mario vendida foi 5000 unidades\n"
     ]
    }
   ],
   "source": [
    "for i in range(1, 5):\n",
    "    print(\"A quantidade de {} vendida foi {} unidades\".format(produtos[i], estoque[i]))\n",
    "    "
   ]
  },
  {
   "cell_type": "code",
   "execution_count": 9,
   "id": "5447e799",
   "metadata": {},
   "outputs": [
    {
     "name": "stdout",
     "output_type": "stream",
     "text": [
      "marcelo.bylby@gmayl.com\n"
     ]
    }
   ],
   "source": [
    "texto = \"marcelo.bilby@gmail.com\"\n",
    "texto = texto.replace(\"i\", \"y\")\n",
    "print(texto)"
   ]
  },
  {
   "cell_type": "code",
   "execution_count": 15,
   "id": "d38e25e0",
   "metadata": {},
   "outputs": [
    {
     "name": "stdout",
     "output_type": "stream",
     "text": [
      "Insira o nome do produto : CELULAR\n",
      "O valor do indice i é: 1\n"
     ]
    }
   ],
   "source": [
    "produto = input(\"Insira o nome do produto : \")\n",
    "produto = produto.lower()\n",
    "if produto in produtos:\n",
    "    i = produtos.index(produto)\n",
    "    print(\"O valor do indice i é: {}\".format(i))\n",
    "else:\n",
    "    print(\"O item {} não pertence a lista de produtos\".format(produto))"
   ]
  },
  {
   "cell_type": "code",
   "execution_count": 19,
   "id": "6f8e754d",
   "metadata": {},
   "outputs": [
    {
     "name": "stdout",
     "output_type": "stream",
     "text": [
      "insira o nome do produto: celular\n",
      "Existem 2000 unidades do item celular no estoque\n"
     ]
    }
   ],
   "source": [
    "produto = input('insira o nome do produto: ' )\n",
    "produto = produto.lower()\n",
    "if produto in produtos:\n",
    "    i = produtos.index(produto)\n",
    "    qte_estoque = estoque[i]\n",
    "    print('Existem {} unidades do item {} no estoque'.format(qte_estoque, produto))\n",
    "else:\n",
    "    print('o item {} não existe na lista'.format(produto))"
   ]
  }
 ],
 "metadata": {
  "kernelspec": {
   "display_name": "Python 3 (ipykernel)",
   "language": "python",
   "name": "python3"
  },
  "language_info": {
   "codemirror_mode": {
    "name": "ipython",
    "version": 3
   },
   "file_extension": ".py",
   "mimetype": "text/x-python",
   "name": "python",
   "nbconvert_exporter": "python",
   "pygments_lexer": "ipython3",
   "version": "3.9.7"
  }
 },
 "nbformat": 4,
 "nbformat_minor": 5
}
