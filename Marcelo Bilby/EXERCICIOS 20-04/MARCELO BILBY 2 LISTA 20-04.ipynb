{
 "cells": [
  {
   "cell_type": "markdown",
   "id": "38e92928",
   "metadata": {},
   "source": [
    "#**Exercícios**\n",
    "\n",
    "**1. Faturamento do Melhor e do Pior Mês do Ano**\n",
    "\n",
    "Qual foi o valor de vendas do melhor mês do Ano? E valor do pior mês do ano?"
   ]
  },
  {
   "cell_type": "code",
   "execution_count": 32,
   "id": "e0979285",
   "metadata": {},
   "outputs": [],
   "source": [
    "meses = ['jan', 'fev', 'mar', 'abr', 'mai', 'jun', 'jul', 'ago', 'set', 'out', 'nov', 'dez']\n",
    "vendas_1_semestre = [25000, 29000, 22200, 17750, 15870, 19900]\n",
    "vendas_2_semestre = [19850, 20120, 17540, 15555, 49051, 9650]"
   ]
  },
  {
   "cell_type": "code",
   "execution_count": 9,
   "id": "3ce29d5b",
   "metadata": {},
   "outputs": [
    {
     "name": "stdout",
     "output_type": "stream",
     "text": [
      "O TOTAL DE VENDAS DA PRIMEIRA E SEGUNDA SEMESTRE É: [25000, 29000, 22200, 17750, 15870, 19900, 19850, 20120, 17540, 15555, 49051, 9650]\n",
      "O maior valor em vendas é: 49051\n",
      "O menor valor em vendas é: 9650\n"
     ]
    }
   ],
   "source": [
    "vendas_1_semestre.extend(vendas_2_semana)\n",
    "print(\"O TOTAL DE VENDAS DA PRIMEIRO E SEGUNDO SEMESTRE É: {}\".format(vendas_1_semestre))\n",
    "\n",
    "maior_valor = max(vendas_1_semestre)\n",
    "print(\"O maior valor em vendas é: {}\".format(maior_valor))\n",
    "menor_valor = min(vendas_1_semestre)\n",
    "print(\"O menor valor em vendas é: {}\".format(menor_valor))"
   ]
  },
  {
   "cell_type": "markdown",
   "id": "02196f55",
   "metadata": {},
   "source": [
    "**2. Continuação**\n",
    "\n",
    "Agora relacione as duas listas para printar\n",
    "\n",
    "'O melhor mês do ano foi {} com {} vendas' e o mesmo para o pior mês do ano.\n",
    "\n",
    "Calcule também o faturamento total do Ano e quanto que o melhor mês representou do faturamento total.\n",
    "\n",
    "Obs: Para o faturamento total, pode usar a função sum(lista) que soma todos os itens de uma lista"
   ]
  },
  {
   "cell_type": "code",
   "execution_count": 11,
   "id": "0eb12a07",
   "metadata": {},
   "outputs": [
    {
     "name": "stdout",
     "output_type": "stream",
     "text": [
      "O melhor mês do ano foi nov com 49051 vendas\n",
      "O menor mês do ano foi dez com 9650 vendas\n"
     ]
    }
   ],
   "source": [
    "i_maior_venda = vendas_1_semana.index(maior_valor)\n",
    "i_menor_venda = vendas_1_semana.index(menor_valor)\n",
    "\n",
    "print('O melhor mês do ano foi {} com {} vendas'.format(meses[i_maior_venda], maior_valor))\n",
    "print('O menor mês do ano foi {} com {} vendas'.format(meses[i_menor_venda], menor_valor))"
   ]
  },
  {
   "cell_type": "code",
   "execution_count": 36,
   "id": "5ad00239",
   "metadata": {},
   "outputs": [
    {
     "name": "stdout",
     "output_type": "stream",
     "text": [
      "Faturamento total foi de: R$525,018 \n",
      "O mehor mês representou 4.23%  das vendas do ano todo\n"
     ]
    }
   ],
   "source": [
    "faturamento_total = sum(vendas_1_semana)\n",
    "print('Faturamento total foi de: R${:,} '.format(faturamento_total))\n",
    "\n",
    "percentual = maior_valor/faturamento_total\n",
    "print('O mehor mês representou {:.2%}  das vendas do ano todo'.format(percentual))"
   ]
  },
  {
   "cell_type": "markdown",
   "id": "29130cc9",
   "metadata": {},
   "source": [
    "**3. Crie uma lista com o top 3 valores de vendas do ano (sem fazer \"no olho\")**\n",
    "\n",
    "Dica: o método remove retira um item da lista."
   ]
  },
  {
   "cell_type": "code",
   "execution_count": 33,
   "id": "40c02b7a",
   "metadata": {},
   "outputs": [
    {
     "name": "stdout",
     "output_type": "stream",
     "text": [
      "[25000, 29000, 22200, 17750, 15870, 19900]\n",
      "[25000, 22200, 17750, 15870, 19900]\n",
      "[22200, 17750, 15870, 19900]\n",
      "As melhores vendas são em 1 posição 29000 reais\n",
      "As melhores vendas são em 2 posição 25000 reais\n",
      "As melhores vendas são em 3 posição 22200 reais\n"
     ]
    }
   ],
   "source": [
    "top3=[]\n",
    "\n",
    "for i in range(0, 3):\n",
    "    print(vendas_1_semestre)\n",
    "    semestre_1 = vendas_1_semestre\n",
    "    maior_valor = max(semestre_1)\n",
    "    top3.append(maior_valor)\n",
    "    semestre_1.remove(maior_valor)\n",
    "\n",
    "\n",
    "for i in range(0, 3):\n",
    "    print(\"As melhores vendas são em {} posição {} reais\".format(i+1, top3[i]))\n"
   ]
  }
 ],
 "metadata": {
  "kernelspec": {
   "display_name": "Python 3 (ipykernel)",
   "language": "python",
   "name": "python3"
  },
  "language_info": {
   "codemirror_mode": {
    "name": "ipython",
    "version": 3
   },
   "file_extension": ".py",
   "mimetype": "text/x-python",
   "name": "python",
   "nbconvert_exporter": "python",
   "pygments_lexer": "ipython3",
   "version": "3.9.7"
  }
 },
 "nbformat": 4,
 "nbformat_minor": 5
}
