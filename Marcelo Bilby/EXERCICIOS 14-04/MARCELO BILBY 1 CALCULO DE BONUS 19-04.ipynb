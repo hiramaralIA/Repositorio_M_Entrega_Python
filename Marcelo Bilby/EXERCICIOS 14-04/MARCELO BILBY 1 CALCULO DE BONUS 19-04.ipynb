{
 "cells": [
  {
   "cell_type": "markdown",
   "id": "690720ce",
   "metadata": {},
   "source": [
    "**Exercícios com if**\n",
    "\n",
    "**1. Cálculo de Bônus**\n",
    "\n",
    "Crie um programa que calcule e dê um print no bônus que os funcionários devem receber segundo a regra:\n",
    "A meta é 1000 vendas.\n",
    "Se o valor de vendas for maior ou igual a meta, o valor do bônus do funcionário é 10% do valor de vendas.\n",
    "Caso contrário o valor de bônus do funcionário é 0.\n",
    "Print o bônus dos 3 funcionários"
   ]
  },
  {
   "cell_type": "code",
   "execution_count": 25,
   "id": "b72582fe",
   "metadata": {},
   "outputs": [],
   "source": [
    "vendas_funcionario1 = 100\n",
    "vendas_funcionario2 = 2770\n",
    "vendas_funcionario3 = 700\n",
    "meta = 1000\n"
   ]
  },
  {
   "cell_type": "code",
   "execution_count": 27,
   "id": "5b8757da",
   "metadata": {},
   "outputs": [
    {
     "name": "stdout",
     "output_type": "stream",
     "text": [
      "O bonus do Funcionário 1 é de 0 reais: \n",
      "O bonus do Funcionário 2 é de 277.0 reais: \n",
      "O bonus do Funcionário 3 é de 0 reais: \n"
     ]
    }
   ],
   "source": [
    "if vendas_funcionario1 >= meta :\n",
    "    bonus = 0.00\n",
    "    bonus = vendas_funcionario1 * 0.1\n",
    "    print(\"O bonus do Funcionário 1 é de {} reais: \".format(bonus))\n",
    "else:\n",
    "    print(\"O bonus do Funcionário 1 é de {} reais: \". format(0))\n",
    "    \n",
    "if vendas_funcionario2 >= meta :\n",
    "    bonus = 0.00\n",
    "    bonus = vendas_funcionario2 * 0.1\n",
    "    print(\"O bonus do Funcionário 2 é de {} reais: \".format(bonus))\n",
    "else:\n",
    "    print(\"O bonus do Funcionário 2 é de {} reais: \". format(0))\n",
    "    \n",
    "if vendas_funcionario3 >= meta :\n",
    "    bonus = 0.00\n",
    "    bonus = vendas_funcionario3 * 0.1\n",
    "    print(\"O bonus do Funcionário 3 é de {} reais: \".format(bonus))\n",
    "else:\n",
    "    print(\"O bonus do Funcionário 3 é de {} reais: \". format(0))\n",
    "\n"
   ]
  }
 ],
 "metadata": {
  "kernelspec": {
   "display_name": "Python 3 (ipykernel)",
   "language": "python",
   "name": "python3"
  },
  "language_info": {
   "codemirror_mode": {
    "name": "ipython",
    "version": 3
   },
   "file_extension": ".py",
   "mimetype": "text/x-python",
   "name": "python",
   "nbconvert_exporter": "python",
   "pygments_lexer": "ipython3",
   "version": "3.9.7"
  }
 },
 "nbformat": 4,
 "nbformat_minor": 5
}
