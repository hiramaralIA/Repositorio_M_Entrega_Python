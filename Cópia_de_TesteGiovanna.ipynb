{
  "nbformat": 4,
  "nbformat_minor": 0,
  "metadata": {
    "colab": {
      "name": "Cópia de TesteGiovanna",
      "provenance": [],
      "authorship_tag": "ABX9TyOTD4RmTb7jIEXDD4vT6t6t",
      "include_colab_link": true
    },
    "kernelspec": {
      "name": "python3",
      "display_name": "Python 3"
    },
    "language_info": {
      "name": "python"
    }
  },
  "cells": [
    {
      "cell_type": "markdown",
      "metadata": {
        "id": "view-in-github",
        "colab_type": "text"
      },
      "source": [
        "<a href=\"https://colab.research.google.com/github/giovannacscavalcante/Repositorio_M_Entregas_Python/blob/Giovanna-Cavalcante/C%C3%B3pia_de_TesteGiovanna.ipynb\" target=\"_parent\"><img src=\"https://colab.research.google.com/assets/colab-badge.svg\" alt=\"Open In Colab\"/></a>"
      ]
    },
    {
      "cell_type": "code",
      "execution_count": null,
      "metadata": {
        "colab": {
          "base_uri": "https://localhost:8080/"
        },
        "id": "GuZRc1nWH3aR",
        "outputId": "df1034f0-0627-4155-edd1-afc0dc4856d4"
      },
      "outputs": [
        {
          "output_type": "stream",
          "name": "stdout",
          "text": [
            "Olá,mundo\n"
          ]
        }
      ],
      "source": [
        "##TESTE\n",
        "print(\"Olá,mundo\")"
      ]
    }
  ]
}