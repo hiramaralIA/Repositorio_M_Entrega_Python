{
  "cells": [
    {
      "cell_type": "markdown",
      "metadata": {
        "id": "view-in-github",
        "colab_type": "text"
      },
      "source": [
        "<a href=\"https://colab.research.google.com/github/hiramaralIA/Repositorio_M_Entregas_Python/blob/main/Respostas_dos_exerc%C3%ADcios.ipynb\" target=\"_parent\"><img src=\"https://colab.research.google.com/assets/colab-badge.svg\" alt=\"Open In Colab\"/></a>"
      ]
    },
    {
      "cell_type": "markdown",
      "id": "863db3f1",
      "metadata": {
        "id": "863db3f1"
      },
      "source": [
        "# Lógica de Progração CETAM - IA\n",
        "\n",
        "*texto em itálico*# Exercício 1 - Operações,  variáveis e input\n",
        "\n",
        "Crie um programa que imprima os principais indicadores da loja de bebidas do último ano. Faça usando variáveis\n",
        "\n",
        "Valores do último ano\n",
        "\n",
        "Quantidade de venda de coca = 150\n",
        "Quantidade de vendas de pepsi = 130\n",
        "Preço unitário da coca = 1,50\n",
        "Preço unitário de pepsi = 1,50\n",
        "Custo da loja: 2.500,00\n",
        "\n",
        "Use o bloco abaixo para criar todas as variáveis que precisar"
      ]
    },
    {
      "cell_type": "code",
      "execution_count": null,
      "id": "0beeedbd",
      "metadata": {
        "id": "0beeedbd"
      },
      "outputs": [],
      "source": [
        "qte_coca = 150\n",
        "qte_pepsi = 130\n",
        "preco_coca = 1.50\n",
        "preco_pepsi = 1.50\n",
        "custo = 2500"
      ]
    },
    {
      "cell_type": "markdown",
      "id": "d209d809",
      "metadata": {
        "id": "d209d809"
      },
      "source": [
        "# Qual foi o faturamento de pepsi da loja?"
      ]
    },
    {
      "cell_type": "code",
      "execution_count": null,
      "id": "ac816e79",
      "metadata": {
        "id": "ac816e79",
        "outputId": "1b5c45ae-8f3b-4745-a525-3e3896c653f4"
      },
      "outputs": [
        {
          "name": "stdout",
          "output_type": "stream",
          "text": [
            "195.0\n"
          ]
        }
      ],
      "source": [
        "print (qte_pepsi * preco_pepsi)"
      ]
    },
    {
      "cell_type": "markdown",
      "id": "69ef6bc6",
      "metadata": {
        "id": "69ef6bc6"
      },
      "source": [
        "# Qual foi o faturamento de coca da loja?"
      ]
    },
    {
      "cell_type": "code",
      "execution_count": null,
      "id": "95f7244f",
      "metadata": {
        "id": "95f7244f",
        "outputId": "6b539772-50bc-427c-e2ab-ecce7e8df651"
      },
      "outputs": [
        {
          "name": "stdout",
          "output_type": "stream",
          "text": [
            "225.0\n"
          ]
        }
      ],
      "source": [
        "print (qte_coca * preco_coca)"
      ]
    },
    {
      "cell_type": "markdown",
      "id": "3b7176b4",
      "metadata": {
        "id": "3b7176b4"
      },
      "source": [
        "# Qual o lucro da loja?"
      ]
    },
    {
      "cell_type": "code",
      "execution_count": null,
      "id": "d975ffde",
      "metadata": {
        "id": "d975ffde",
        "outputId": "8fb5f742-7470-484d-a10a-6ca9b3b0add3"
      },
      "outputs": [
        {
          "name": "stdout",
          "output_type": "stream",
          "text": [
            "-2080.0\n"
          ]
        }
      ],
      "source": [
        "faturamento = qte_coca * preco_coca + qte_pepsi * preco_pepsi\n",
        "lucro = faturamento - custo\n",
        "print(lucro)"
      ]
    },
    {
      "cell_type": "markdown",
      "id": "0637c7d7",
      "metadata": {
        "id": "0637c7d7"
      },
      "source": [
        "# Qual foi a margem de lucro da loja?"
      ]
    },
    {
      "cell_type": "code",
      "execution_count": null,
      "id": "c64af55e",
      "metadata": {
        "id": "c64af55e",
        "outputId": "a7c2de0f-be16-41ca-de8d-174df774f2ad"
      },
      "outputs": [
        {
          "name": "stdout",
          "output_type": "stream",
          "text": [
            "-4.9523809523809526\n"
          ]
        }
      ],
      "source": [
        "print(lucro / faturamento)"
      ]
    },
    {
      "cell_type": "markdown",
      "id": "2ce0a667",
      "metadata": {
        "id": "2ce0a667"
      },
      "source": [
        "# Exercício 2 - Inputs e strings"
      ]
    },
    {
      "cell_type": "markdown",
      "id": "7edb0ccc",
      "metadata": {
        "id": "7edb0ccc"
      },
      "source": [
        "#\"\"\"### Parte 2 - Inputs e Strings\n",
        "\n",
        "A maioria das empresas trabalham com um Código para cada produto que possuem. A Hashtag&Drink, por exemplo, tem mais de 1.000 produtos e possui um código para cada produto.\n",
        "Ex: \n",
        "Coca -> Código: BEB1300543<br>\n",
        "Pepsi -> Código: BEB1300545<br>\n",
        "Vinho Primitivo Lucarelli -> Código: BAC1546001<br>\n",
        "Vodka Smirnoff -> Código: BAC17675002<br>\n",
        "\n",
        "Repare que todas as bebidas não alcóolicas tem o início do Código \"BEB\" e todas as bebidas alcóolicas tem o início do código \"BAC\".\n",
        "\n",
        "Crie um programa de consulta de bebida que, dado um código qualquer, identifique se a bebida é alcóolica. O programa deve responder True para bebidas alcóolicas e False para bebidas não alcóolicas. Para inserir um código, use um input.\n",
        "\n",
        "Dica: Lembre-se do comando in para strings e sempre insira os códigos com letra maiúscula para facilitar.\n",
        "\"\"\"\n"
      ]
    },
    {
      "cell_type": "code",
      "execution_count": null,
      "id": "dfae2887",
      "metadata": {
        "id": "dfae2887",
        "outputId": "74c577f7-71bb-4a99-caa9-7b0274258813"
      },
      "outputs": [
        {
          "name": "stdout",
          "output_type": "stream",
          "text": [
            " Qual é o código da bebida? (Insira em letras maiúcula): BAC\n",
            "True\n"
          ]
        }
      ],
      "source": [
        "codigo = input(\" Qual é o código da bebida? (Insira em letras maiúcula): \")\n",
        "print(\"BAC\" in codigo)"
      ]
    },
    {
      "cell_type": "code",
      "execution_count": null,
      "id": "b21bb35d",
      "metadata": {
        "id": "b21bb35d"
      },
      "outputs": [],
      "source": [
        ""
      ]
    }
  ],
  "metadata": {
    "kernelspec": {
      "display_name": "Python 3 (ipykernel)",
      "language": "python",
      "name": "python3"
    },
    "language_info": {
      "codemirror_mode": {
        "name": "ipython",
        "version": 3
      },
      "file_extension": ".py",
      "mimetype": "text/x-python",
      "name": "python",
      "nbconvert_exporter": "python",
      "pygments_lexer": "ipython3",
      "version": "3.9.7"
    },
    "colab": {
      "name": "Respostas dos exercícios.ipynb",
      "provenance": [],
      "collapsed_sections": [],
      "include_colab_link": true
    }
  },
  "nbformat": 4,
  "nbformat_minor": 5
}