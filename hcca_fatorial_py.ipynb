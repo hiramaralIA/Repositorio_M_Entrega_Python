{
  "nbformat": 4,
  "nbformat_minor": 0,
  "metadata": {
    "colab": {
      "name": "hcca_fatorial_py.ipynb",
      "provenance": [],
      "collapsed_sections": [],
      "authorship_tag": "ABX9TyNP/JWTFcieNaPD02O3WQku",
      "include_colab_link": true
    },
    "kernelspec": {
      "name": "python3",
      "display_name": "Python 3"
    },
    "language_info": {
      "name": "python"
    }
  },
  "cells": [
    {
      "cell_type": "markdown",
      "metadata": {
        "id": "view-in-github",
        "colab_type": "text"
      },
      "source": [
        "<a href=\"https://colab.research.google.com/github/hiramaralIA/Repositorio_M_Entregas_Python/blob/main/hcca_fatorial_py.ipynb\" target=\"_parent\"><img src=\"https://colab.research.google.com/assets/colab-badge.svg\" alt=\"Open In Colab\"/></a>"
      ]
    },
    {
      "cell_type": "code",
      "execution_count": null,
      "metadata": {
        "id": "nezVlPwqsxtq"
      },
      "outputs": [],
      "source": [
        ""
      ]
    },
    {
      "cell_type": "code",
      "source": [
        "def fatorial(num):\n",
        " fat = 1 # Inicialização da variável \"fat\"\n",
        " if num < 0:\n",
        "  raise Exception('O fatorial de um número negativo não é definido.')\n",
        " elif num == 0:\n",
        "  fat = 1\n",
        " else:\n",
        "  for i in range(1, num + 1):\n",
        "    fat *= i\n",
        " return fat\n",
        "num = 4\n",
        "print(f'O fatorial de {num} é {fatorial(num)}.')\n"
      ],
      "metadata": {
        "colab": {
          "base_uri": "https://localhost:8080/"
        },
        "id": "mAtCKKiItdel",
        "outputId": "333bb12b-1d60-4f25-d6d3-f608b325fb9c"
      },
      "execution_count": 4,
      "outputs": [
        {
          "output_type": "stream",
          "name": "stdout",
          "text": [
            "O fatorial de 4 é 24.\n"
          ]
        }
      ]
    }
  ]
}