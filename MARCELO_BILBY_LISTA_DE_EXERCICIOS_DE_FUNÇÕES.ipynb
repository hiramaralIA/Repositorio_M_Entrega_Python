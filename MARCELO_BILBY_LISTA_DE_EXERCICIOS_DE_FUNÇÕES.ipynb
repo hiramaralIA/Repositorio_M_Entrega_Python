{
  "nbformat": 4,
  "nbformat_minor": 0,
  "metadata": {
    "colab": {
      "name": "MARCELO BILBY - LISTA DE EXERCICIOS DE FUNÇÕES.ipynb",
      "provenance": [],
      "collapsed_sections": [],
      "authorship_tag": "ABX9TyPzxhJihmt3YhqkEM98RvU8",
      "include_colab_link": true
    },
    "kernelspec": {
      "name": "python3",
      "display_name": "Python 3"
    },
    "language_info": {
      "name": "python"
    }
  },
  "cells": [
    {
      "cell_type": "markdown",
      "metadata": {
        "id": "view-in-github",
        "colab_type": "text"
      },
      "source": [
        "<a href=\"https://colab.research.google.com/github/marceloBilbyIA/Repositorio_M_Entregas_Python/blob/marceloBilby/MARCELO_BILBY_LISTA_DE_EXERCICIOS_DE_FUN%C3%87%C3%95ES.ipynb\" target=\"_parent\"><img src=\"https://colab.research.google.com/assets/colab-badge.svg\" alt=\"Open In Colab\"/></a>"
      ]
    },
    {
      "cell_type": "markdown",
      "source": [
        "**1. Faça uma função que calcule a média de um aluno de acordo com o critério definido neste\n",
        "curso. Além disso, faça uma segunda função que informe o status do aluno de acordo com a\n",
        "tabela a seguir: Nota acima de 6 à “Aprovado” Nota entre 4 e 6 à Conceito “Verificação\n",
        "Suplementar” Nota abaixo de 4 à Conceito “Reprovado”**"
      ],
      "metadata": {
        "id": "ZaktSOyBNGYi"
      }
    },
    {
      "cell_type": "code",
      "source": [
        "def calculaMedia(n1, n2, n3, n4):\n",
        "  return (n1 + n2 + n3 + n4) / 4"
      ],
      "metadata": {
        "id": "KOLMwno8NRAu"
      },
      "execution_count": null,
      "outputs": []
    },
    {
      "cell_type": "code",
      "source": [
        "def verificaStatus(media):\n",
        "  if media > 6 and media <= 10:\n",
        "    return \"Aprovado\"\n",
        "  else:\n",
        "    if media >= 4 and media <= 6:\n",
        "      return \"Verificação suplementar\"\n",
        "    else:\n",
        "      if media < 4 and media > 0:\n",
        "        return \"reprovado\""
      ],
      "metadata": {
        "id": "Jl46-EHFNwwG"
      },
      "execution_count": null,
      "outputs": []
    },
    {
      "cell_type": "code",
      "source": [
        "media = calculaMedia(7, 8, 8, 10)\n",
        "status = verificaStatus(media)"
      ],
      "metadata": {
        "id": "hpSt3zjTOf1b"
      },
      "execution_count": null,
      "outputs": []
    },
    {
      "cell_type": "code",
      "source": [
        "print(f\"Média: {media}\")"
      ],
      "metadata": {
        "colab": {
          "base_uri": "https://localhost:8080/"
        },
        "id": "Wm89Y0F4PD0s",
        "outputId": "b0463f47-3fd3-47bd-a812-89f86b24bb70"
      },
      "execution_count": null,
      "outputs": [
        {
          "output_type": "stream",
          "name": "stdout",
          "text": [
            "Média: 8.25\n"
          ]
        }
      ]
    },
    {
      "cell_type": "code",
      "source": [
        "print(f\"Status: {status}\")"
      ],
      "metadata": {
        "colab": {
          "base_uri": "https://localhost:8080/"
        },
        "id": "m6jx61GVPLHa",
        "outputId": "3012fc83-ad6a-4a20-9768-86bb0b0156e4"
      },
      "execution_count": null,
      "outputs": [
        {
          "output_type": "stream",
          "name": "stdout",
          "text": [
            "Status: Aprovado\n"
          ]
        }
      ]
    },
    {
      "cell_type": "markdown",
      "source": [
        "**2. Leia do usuário o tempo em segundos e o escreva em horas, minutos e segundos. Utilize cinco\n",
        "métodos: para a leitura e escrita de dados e para obtenção de horas, minutos e segundos a partir\n",
        "do tempo em segundos.**"
      ],
      "metadata": {
        "id": "vbcH5JqpP6lY"
      }
    },
    {
      "cell_type": "markdown",
      "source": [
        "Método 1"
      ],
      "metadata": {
        "id": "FKnbS_-9ZBr-"
      }
    },
    {
      "cell_type": "code",
      "source": [
        "def converteEmHoras(segundos): \n",
        "    segundos = segundos % (24 * 3600)\n",
        "    hora = segundos // 3600\n",
        "    segundos %= 3600\n",
        "    minutos = segundos // 60\n",
        "    segundos %= 60\n",
        "    return \"%d:%02d:%02d\" % (hora, minutos, segundos)"
      ],
      "metadata": {
        "id": "a7vYmTwLQhRM"
      },
      "execution_count": null,
      "outputs": []
    },
    {
      "cell_type": "code",
      "source": [
        "n = int(input(\"Informe um valor em segundos: \")) \n",
        "print(converteEmHoras(n))"
      ],
      "metadata": {
        "colab": {
          "base_uri": "https://localhost:8080/"
        },
        "id": "GxL_sdbcT_F7",
        "outputId": "2230c8e4-3144-40a6-84c6-289342efaf2e"
      },
      "execution_count": null,
      "outputs": [
        {
          "output_type": "stream",
          "name": "stdout",
          "text": [
            "Informe um valor em segundos: 12345\n",
            "3:25:45\n"
          ]
        }
      ]
    },
    {
      "cell_type": "markdown",
      "source": [
        "Método 2"
      ],
      "metadata": {
        "id": "5rH1BmucZFeW"
      }
    },
    {
      "cell_type": "code",
      "source": [
        "def converte(segundos): \n",
        "    min, seg = divmod(segundos, 60) \n",
        "    hora, min = divmod(min, 60) \n",
        "    return \"%d:%02d:%02d\" % (hora, min, seg) "
      ],
      "metadata": {
        "id": "qIm3np4AZHsa"
      },
      "execution_count": null,
      "outputs": []
    },
    {
      "cell_type": "code",
      "source": [
        "n = int(input(\"Informe um valor em segundos: \"))\n",
        "print(converte(n)) "
      ],
      "metadata": {
        "colab": {
          "base_uri": "https://localhost:8080/"
        },
        "id": "nBVGoGi7Z01f",
        "outputId": "2c8b51ef-9f41-40ff-d7b2-3faa51f82805"
      },
      "execution_count": null,
      "outputs": [
        {
          "output_type": "stream",
          "name": "stdout",
          "text": [
            "Informe um valor em segundos: 3600\n",
            "1:00:00\n"
          ]
        }
      ]
    },
    {
      "cell_type": "markdown",
      "source": [
        "Método 3"
      ],
      "metadata": {
        "id": "tSiil4XOa3R6"
      }
    },
    {
      "cell_type": "code",
      "source": [
        "from datetime import timedelta \n",
        "  \n",
        "def converte(n): \n",
        "    return str(timedelta(seconds = n))  "
      ],
      "metadata": {
        "id": "rUTjSA83a6Y2"
      },
      "execution_count": null,
      "outputs": []
    },
    {
      "cell_type": "code",
      "source": [
        "n = int(input(\"Informe um valor em segundos: \"))\n",
        "print(converte(n))"
      ],
      "metadata": {
        "colab": {
          "base_uri": "https://localhost:8080/"
        },
        "id": "CDwzzI6YbE2C",
        "outputId": "9571f0c8-33b5-45af-d101-4968db1fcffc"
      },
      "execution_count": null,
      "outputs": [
        {
          "output_type": "stream",
          "name": "stdout",
          "text": [
            "Informe um valor em segundos: 3600\n",
            "1:00:00\n"
          ]
        }
      ]
    },
    {
      "cell_type": "markdown",
      "source": [
        "Metodo 4"
      ],
      "metadata": {
        "id": "0BtdrG4ybsLF"
      }
    },
    {
      "cell_type": "code",
      "source": [
        "import time \n",
        "  \n",
        "def converte(segundos): \n",
        "    return time.strftime(\"%H:%M:%S\", time.gmtime(segundos)) "
      ],
      "metadata": {
        "id": "6H8VhZaicVNB"
      },
      "execution_count": null,
      "outputs": []
    },
    {
      "cell_type": "code",
      "source": [
        "n = 12345\n",
        "print(converte(n)) "
      ],
      "metadata": {
        "colab": {
          "base_uri": "https://localhost:8080/"
        },
        "id": "ZkZ0Af9ldYaZ",
        "outputId": "92098396-ff7b-4d27-9904-be6ebf8b9aad"
      },
      "execution_count": null,
      "outputs": [
        {
          "output_type": "stream",
          "name": "stdout",
          "text": [
            "03:25:45\n"
          ]
        }
      ]
    },
    {
      "cell_type": "markdown",
      "source": [
        "Método 5"
      ],
      "metadata": {
        "id": "jgCQs9OTdax2"
      }
    },
    {
      "cell_type": "code",
      "source": [
        "from datetime import time\n",
        "\n",
        "def converte(segundos):\n",
        "  min, seg = divmod(segundos, 60) \n",
        "  hora, min = divmod(min, 60)\n",
        "  hora = time(hour=hora, minute=min, second=seg) \n",
        "  return hora"
      ],
      "metadata": {
        "id": "yeBxlUiEddTR"
      },
      "execution_count": null,
      "outputs": []
    },
    {
      "cell_type": "code",
      "source": [
        "n = int(input(\"Informe um valor em segundos: \"))\n",
        "hora = converte(n)\n",
        "print(hora)"
      ],
      "metadata": {
        "colab": {
          "base_uri": "https://localhost:8080/"
        },
        "id": "YkD4OM3bf_Jh",
        "outputId": "477c09be-1363-42f3-fc2d-7466235bd720"
      },
      "execution_count": null,
      "outputs": [
        {
          "output_type": "stream",
          "name": "stdout",
          "text": [
            "Informe um valor em segundos: 3600\n",
            "01:00:00\n"
          ]
        }
      ]
    },
    {
      "cell_type": "markdown",
      "source": [
        "**3. Leia uma matriz 3 x 3 que representa um tabuleiro de jogo da velha e indique qual posição\n",
        "deveria ser jogada para ganhar o jogo (se possível) ou ao menos para evitar uma derrota.**"
      ],
      "metadata": {
        "id": "QkudnRjajSf2"
      }
    },
    {
      "cell_type": "code",
      "source": [
        "def criaTabuleiro():\n",
        "  matriz = []\n",
        "\n",
        "  for linha in range(1, 4):\n",
        "    for coluna in range(1, 4):\n",
        "      valor = input(f\"Digite um valor 'X' ou 'O' [{linha}, {coluna}]: \")\n",
        "      matriz.append(valor)\n",
        "  return matriz"
      ],
      "metadata": {
        "id": "MFVjusCRjZ5N"
      },
      "execution_count": 44,
      "outputs": []
    },
    {
      "cell_type": "code",
      "source": [
        "tabuleiro = criaTabuleiro()\n",
        "print(tabuleiro)\n",
        "\n",
        "for linha in range(1, 4):\n",
        "  for coluna in range(1, 4):\n",
        "    print(tabuleiro[linha][coluna], end= '')\n",
        "  print(\"\")"
      ],
      "metadata": {
        "colab": {
          "base_uri": "https://localhost:8080/",
          "height": 391
        },
        "id": "kLNbnOA5l3aJ",
        "outputId": "7d2b52ed-6df8-40c9-c3e3-4becd946ecb6"
      },
      "execution_count": 45,
      "outputs": [
        {
          "output_type": "stream",
          "name": "stdout",
          "text": [
            "Digite um valor 'X' ou 'O' [1, 1]: x\n",
            "Digite um valor 'X' ou 'O' [1, 2]: o\n",
            "Digite um valor 'X' ou 'O' [1, 3]: x\n",
            "Digite um valor 'X' ou 'O' [2, 1]: o\n",
            "Digite um valor 'X' ou 'O' [2, 2]: x\n",
            "Digite um valor 'X' ou 'O' [2, 3]: o\n",
            "Digite um valor 'X' ou 'O' [3, 1]: x\n",
            "Digite um valor 'X' ou 'O' [3, 2]: x\n",
            "Digite um valor 'X' ou 'O' [3, 3]: o\n",
            "['x', 'o', 'x', 'o', 'x', 'o', 'x', 'x', 'o']\n"
          ]
        },
        {
          "output_type": "error",
          "ename": "IndexError",
          "evalue": "ignored",
          "traceback": [
            "\u001b[0;31m---------------------------------------------------------------------------\u001b[0m",
            "\u001b[0;31mIndexError\u001b[0m                                Traceback (most recent call last)",
            "\u001b[0;32m<ipython-input-45-cfefc6cb20a6>\u001b[0m in \u001b[0;36m<module>\u001b[0;34m()\u001b[0m\n\u001b[1;32m      4\u001b[0m \u001b[0;32mfor\u001b[0m \u001b[0mlinha\u001b[0m \u001b[0;32min\u001b[0m \u001b[0mrange\u001b[0m\u001b[0;34m(\u001b[0m\u001b[0;36m1\u001b[0m\u001b[0;34m,\u001b[0m \u001b[0;36m4\u001b[0m\u001b[0;34m)\u001b[0m\u001b[0;34m:\u001b[0m\u001b[0;34m\u001b[0m\u001b[0;34m\u001b[0m\u001b[0m\n\u001b[1;32m      5\u001b[0m   \u001b[0;32mfor\u001b[0m \u001b[0mcoluna\u001b[0m \u001b[0;32min\u001b[0m \u001b[0mrange\u001b[0m\u001b[0;34m(\u001b[0m\u001b[0;36m1\u001b[0m\u001b[0;34m,\u001b[0m \u001b[0;36m4\u001b[0m\u001b[0;34m)\u001b[0m\u001b[0;34m:\u001b[0m\u001b[0;34m\u001b[0m\u001b[0;34m\u001b[0m\u001b[0m\n\u001b[0;32m----> 6\u001b[0;31m     \u001b[0mprint\u001b[0m\u001b[0;34m(\u001b[0m\u001b[0mtabuleiro\u001b[0m\u001b[0;34m[\u001b[0m\u001b[0mlinha\u001b[0m\u001b[0;34m]\u001b[0m\u001b[0;34m[\u001b[0m\u001b[0mcoluna\u001b[0m\u001b[0;34m]\u001b[0m\u001b[0;34m,\u001b[0m \u001b[0mend\u001b[0m\u001b[0;34m=\u001b[0m \u001b[0;34m''\u001b[0m\u001b[0;34m)\u001b[0m\u001b[0;34m\u001b[0m\u001b[0;34m\u001b[0m\u001b[0m\n\u001b[0m\u001b[1;32m      7\u001b[0m   \u001b[0mprint\u001b[0m\u001b[0;34m(\u001b[0m\u001b[0;34m\"\"\u001b[0m\u001b[0;34m)\u001b[0m\u001b[0;34m\u001b[0m\u001b[0;34m\u001b[0m\u001b[0m\n",
            "\u001b[0;31mIndexError\u001b[0m: string index out of range"
          ]
        }
      ]
    }
  ]
}